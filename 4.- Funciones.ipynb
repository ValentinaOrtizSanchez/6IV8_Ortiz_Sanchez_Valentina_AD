{
 "cells": [
  {
   "cell_type": "markdown",
   "id": "69901415-871c-4128-94ba-7cb605818be1",
   "metadata": {},
   "source": [
    "# 4.- Funciones"
   ]
  },
  {
   "cell_type": "markdown",
   "id": "82a4386e-b878-475e-b82d-03dbcb9d44d3",
   "metadata": {},
   "source": [
    "## 4.2.- Función def"
   ]
  },
  {
   "cell_type": "markdown",
   "id": "8e864b12-a5a9-4cde-b565-a59929d9d7eb",
   "metadata": {},
   "source": [
    "Vamos a comenzar creando una funcion que tome un número y devuelva su raiz cuadrada"
   ]
  },
  {
   "cell_type": "code",
   "execution_count": 3,
   "id": "c555a87f-f94f-4dfb-ac88-4bd40e1f2c96",
   "metadata": {},
   "outputs": [
    {
     "data": {
      "text/plain": [
       "7.0"
      ]
     },
     "execution_count": 3,
     "metadata": {},
     "output_type": "execute_result"
    }
   ],
   "source": [
    "def raiz_cuad(número) :\n",
    "    \"\"\"Calcula la raiz cuadrada de un numero.\"\"\"\n",
    "    return número ** (1/2)\n",
    "raiz_cuad(49)"
   ]
  },
  {
   "cell_type": "markdown",
   "id": "a034c45f-dd3c-4e3b-b4b5-4c266b7eb003",
   "metadata": {},
   "source": [
    "Las funciones también las podemos llamar desde otras expresiones como print"
   ]
  },
  {
   "cell_type": "code",
   "execution_count": 6,
   "id": "24499624-16fa-4b44-b50d-a0a77dd65543",
   "metadata": {},
   "outputs": [
    {
     "name": "stdout",
     "output_type": "stream",
     "text": [
      "7.0\n"
     ]
    }
   ],
   "source": [
    "def raiz_cuad(número) :\n",
    "    \"\"\"Calcula la raiz cuadrada de un numero.\"\"\"\n",
    "    return número ** (1/2)\n",
    "print(raiz_cuad(49))"
   ]
  },
  {
   "cell_type": "markdown",
   "id": "5fa7a304-a3ac-49f8-a9c7-985ff3cd4738",
   "metadata": {},
   "source": [
    "Muchas funciones podemos ? para saber como se usa la función"
   ]
  },
  {
   "cell_type": "code",
   "execution_count": 5,
   "id": "48187ac5-0ca4-4412-9b2c-8dc240a0a891",
   "metadata": {},
   "outputs": [
    {
     "name": "stdout",
     "output_type": "stream",
     "text": [
      "88.0\n"
     ]
    }
   ],
   "source": [
    "def potencia(numero):\n",
    "    return numero*numero\n",
    "def raiz_cuad(numero):\n",
    "    return numero**(1/2)\n",
    "\n",
    "print (raiz_cuad(49) + potencia(9))"
   ]
  },
  {
   "cell_type": "markdown",
   "id": "55e03a1c-54ea-4685-b6e0-1880a7073360",
   "metadata": {},
   "source": [
    "#### Por tu cuenta\n",
    "\n",
    "Define una función que calcule la raiz cubica de un numero dado"
   ]
  },
  {
   "cell_type": "code",
   "execution_count": 8,
   "id": "3e9e8b00-c189-400d-b1ba-467fe444b379",
   "metadata": {},
   "outputs": [
    {
     "name": "stdout",
     "output_type": "stream",
     "text": [
      "5.0\n"
     ]
    }
   ],
   "source": [
    "def raiz_cub(número) :\n",
    "    \"\"\"Calcula la raiz cubica de un numero.\"\"\"\n",
    "    return número ** (1/3)\n",
    "print(raiz_cub(125))"
   ]
  },
  {
   "cell_type": "markdown",
   "id": "dc1856d4-be0c-4cc6-b217-10fb4bab5fe6",
   "metadata": {},
   "source": [
    "## 4.3.- Funciones con Múltiples Parámetros"
   ]
  },
  {
   "cell_type": "markdown",
   "id": "1f12cc0d-bd8e-45a9-b1b8-f976783ccf4f",
   "metadata": {},
   "source": [
    "Ahora armaremos una función usando IF que nos dice cual es la raiz cuadrada más grande de 3 números"
   ]
  },
  {
   "cell_type": "code",
   "execution_count": 13,
   "id": "8f4f0077-7108-42ce-942e-e12ee8744582",
   "metadata": {},
   "outputs": [],
   "source": [
    "def raiz_min(num1,num2,num3):\n",
    "    \"\"\"Calcula la raiz cuadrada mas pequena de 3 valores\"\"\"\n",
    "    r_num1=num1 ** (1/2)\n",
    "    r_num2=num2 ** (1/2)\n",
    "    r_num3=num3 ** (1/2)\n",
    "    raiz_min=r_num1\n",
    "    if r_num2<raiz_min:\n",
    "        raiz_min=r_num2\n",
    "    if r_num3<raiz_min:\n",
    "        raiz_min=r_num3\n",
    "    return raiz_min\n",
    "    raiz_min(9,25,4)\n",
    "    2.0\n",
    "    raiz_min(74,73,75)\n",
    "    8.54400374531753\n",
    "    raiz_min(7.5,0.3,0)\n"
   ]
  },
  {
   "cell_type": "markdown",
   "id": "21bdb948-fa7a-4c21-9acb-6ae8266aa3e6",
   "metadata": {},
   "source": [
    "Por si las dudas, esto se podría haber simplificado usando Max y Min"
   ]
  },
  {
   "cell_type": "code",
   "execution_count": 6,
   "id": "8a495cc4-00c7-4cfb-9d0c-c35dea9683ae",
   "metadata": {},
   "outputs": [
    {
     "data": {
      "text/plain": [
       "5.0"
      ]
     },
     "execution_count": 6,
     "metadata": {},
     "output_type": "execute_result"
    }
   ],
   "source": [
    "def raiz(num1, num2, num3):\n",
    "    return max(num1**(1/2), num2**(1/2), num3**(1/2))\n",
    "\n",
    "raiz(4, 25, 9)"
   ]
  },
  {
   "cell_type": "markdown",
   "id": "83d18c4c-e99c-4f4c-a0dc-41b41f50c6ed",
   "metadata": {},
   "source": [
    "#### Por tu cuenta\n",
    "\n",
    "Llama la función max con la lista 15,82,13,55 como argumento, yluego la min con la palabara amarillo como argumento"
   ]
  },
  {
   "cell_type": "code",
   "execution_count": 14,
   "id": "7d71b4aa",
   "metadata": {},
   "outputs": [
    {
     "name": "stdout",
     "output_type": "stream",
     "text": [
      "a\n"
     ]
    }
   ],
   "source": [
    "Lista = [15, 82, 13, 55]\n",
    "print(min(\"amarillo\"))"
   ]
  },
  {
   "cell_type": "code",
   "execution_count": 15,
   "id": "f1e6d743",
   "metadata": {},
   "outputs": [
    {
     "name": "stdout",
     "output_type": "stream",
     "text": [
      "82\n"
     ]
    }
   ],
   "source": [
    "Lista = [15, 82, 13, 55]\n",
    "print(max(Lista))"
   ]
  },
  {
   "cell_type": "markdown",
   "id": "2d356f80-2d18-4849-a3dd-4253cb4edcd6",
   "metadata": {},
   "source": [
    "## 4.4.- Números aleatorios"
   ]
  },
  {
   "cell_type": "markdown",
   "id": "c7ad0802-525b-4399-8fc7-454593d86ae9",
   "metadata": {},
   "source": [
    "Vamos a simular el lanzamiento de una moneda (cara o cruz), usemos la biblioteca random y simulemos 10 tiros"
   ]
  },
  {
   "cell_type": "code",
   "execution_count": 64,
   "id": "3a8bd37e-3b1a-499b-88c3-c3063b1c2f72",
   "metadata": {},
   "outputs": [
    {
     "name": "stdout",
     "output_type": "stream",
     "text": [
      "1 0 1 0 0 1 0 1 0 1 "
     ]
    }
   ],
   "source": [
    "import random\n",
    "for tirada in range(10):\n",
    " print(random.randrange(0,2),end=' ')"
   ]
  },
  {
   "cell_type": "markdown",
   "id": "05cefe11-289a-44e2-a987-b443cce37ce3",
   "metadata": {},
   "source": [
    "Ejecutalo de nuevo, checa como ahora tenemos diferentes resultados"
   ]
  },
  {
   "cell_type": "markdown",
   "id": "4e02ace3-df9d-41aa-87bd-6fd2daa2d0a4",
   "metadata": {},
   "source": [
    "Ahora vamos a escribir un código que simule el lanzamiento de una moneda 100,000 veces. No vamos a mostrar 100,000 resultados, solo una pequeña tabla con todas las caras y todas la cruces"
   ]
  },
  {
   "cell_type": "code",
   "execution_count": 8,
   "id": "70ee75bc-9a07-4c56-af3b-38cc3efcd256",
   "metadata": {},
   "outputs": [
    {
     "name": "stdout",
     "output_type": "stream",
     "text": [
      "1=Cara,0=Aguila   Frecuencia\n",
      "             1        49641\n",
      "             0        50359\n"
     ]
    }
   ],
   "source": [
    "import random\n",
    "frecuencias_unos=0\n",
    "frecuencias_ceros=0\n",
    "\n",
    "for tirada in range(100_000):\n",
    "    resultado = random. randrange (0,2)\n",
    "\n",
    "    if resultado == 1:\n",
    "        frecuencias_unos += 1\n",
    "\n",
    "    else:\n",
    "        frecuencias_ceros += 1\n",
    "\n",
    "print(f'1=Cara,0=Aguila{\"Frecuencia\":>13}')\n",
    "print(f'{1:>14}{frecuencias_unos:>13}')\n",
    "print(f'{0:>14}{frecuencias_ceros:>13}')"
   ]
  },
  {
   "cell_type": "markdown",
   "id": "5ac8c289-07af-4305-a7b0-a47f551d142a",
   "metadata": {},
   "source": [
    "Si queremos obligar a que random sieeeempre nos de los mismos resultados, podemos usar seed. Arma una semilla de 25 y ejecuta el código 2 veces, checa como se repita (seed necesita repetirse 2 veces tmb)"
   ]
  },
  {
   "cell_type": "code",
   "execution_count": 9,
   "id": "06562bd7-2288-4e71-b817-55aeae5017b4",
   "metadata": {},
   "outputs": [
    {
     "name": "stdout",
     "output_type": "stream",
     "text": [
      "1 0 0 1 1 0 1 0 1 1 "
     ]
    }
   ],
   "source": [
    "random. seed(25)\n",
    "for tirada in range(10):\n",
    "    print (random. randrange (0,2),end=' ')"
   ]
  },
  {
   "cell_type": "markdown",
   "id": "ae4f4e14-ebd5-45f8-a8e4-9b31641a0af1",
   "metadata": {},
   "source": [
    "Es momento de jugar a \"El Gran 8\". \n",
    "\n",
    "Lo primero será lanzar un par de dados - arma una función que simule 2 dados y devuelva los valores que cayeron"
   ]
  },
  {
   "cell_type": "code",
   "execution_count": 60,
   "id": "07d2eda1-61af-4814-89da-822a1cb05e01",
   "metadata": {},
   "outputs": [
    {
     "name": "stdout",
     "output_type": "stream",
     "text": [
      "(5, 2)\n"
     ]
    }
   ],
   "source": [
    "import random\n",
    "\n",
    "def lanzar_dados():\n",
    "    dado1 = random.randrange(1, 7)\n",
    "    dado2 = random.randrange(1, 7)\n",
    "    return(dado1,dado2)\n",
    "print(lanzar_dados())"
   ]
  },
  {
   "cell_type": "markdown",
   "id": "6c524cee-4fb0-496d-b33b-343a1b9d6d62",
   "metadata": {},
   "source": [
    "Ahora arma una función que muestre la suma de los resultados de los 2 dados"
   ]
  },
  {
   "cell_type": "code",
   "execution_count": 17,
   "id": "f64c316a-f793-41ed-a4c0-68d014fbe816",
   "metadata": {},
   "outputs": [
    {
     "name": "stdout",
     "output_type": "stream",
     "text": [
      "Resultado:  6 + 6 = 12\n"
     ]
    }
   ],
   "source": [
    "def lanzar_dados():\n",
    "    dado1 = random.randrange(1, 7)\n",
    "    dado2 = random.randrange(1, 7)\n",
    "    return(dado1,dado2)\n",
    "\n",
    "def mostrar_dados(dado):\n",
    "    dado1,dado2 = dado\n",
    "    print(f'Resultado:  {dado1} + {dado2} = {sum(dado)}')\n",
    "\n",
    "mostrar_dados(lanzar_dados())"
   ]
  },
  {
   "cell_type": "markdown",
   "id": "c5eb4532-dce4-4397-b753-223bb5030a8f",
   "metadata": {},
   "source": [
    "Ahora necesitamos una variable que almacene el resutlado de lanzar los dados (funcion 1) y otra que sume los resultados de la función 1."
   ]
  },
  {
   "cell_type": "code",
   "execution_count": 63,
   "id": "9f51af4c-2def-494b-b7a2-9201414a4019",
   "metadata": {},
   "outputs": [
    {
     "name": "stdout",
     "output_type": "stream",
     "text": [
      "Resultado:  6 + 1 = 7\n",
      "Perdiste\n"
     ]
    }
   ],
   "source": [
    "def lanzar_dados():\n",
    "    dado1 = random.randrange(1, 7)\n",
    "    dado2 = random.randrange(1, 7)\n",
    "    return(dado1,dado2)\n",
    "\n",
    "def mostrar_dados(dado):\n",
    "    dado1,dado2 = dado\n",
    "    print(f'Resultado:  {dado1} + {dado2} = {sum(dado)}')\n",
    "\n",
    "valores_logrados = lanzar_dados()\n",
    "\n",
    "mostrar_dados(valores_logrados)\n",
    "\n",
    "suma_dados = sum(valores_logrados)\n",
    "\n",
    "if suma_dados == 8:\n",
    "    print(\"Ganaste\")\n",
    "elif suma_dados == 7:\n",
    "    print(\"Perdiste\")\n",
    "else:\n",
    "    print(\"El juego continúa\")"
   ]
  },
  {
   "cell_type": "markdown",
   "id": "21576096-58ea-4bd7-9e1b-bbe197aa08f2",
   "metadata": {},
   "source": [
    "Ahora, vamos  a simular las consecuencias del primer tiro - si la suma es 8, ganaste, si es 7, perdiste, y si no, continuamos"
   ]
  },
  {
   "cell_type": "code",
   "execution_count": 19,
   "id": "b35649ce-62bb-48fe-904a-089dccb42867",
   "metadata": {},
   "outputs": [
    {
     "name": "stdout",
     "output_type": "stream",
     "text": [
      "Resultado:  5 + 3 = 8\n",
      "Ganaste\n"
     ]
    }
   ],
   "source": [
    "def lanzar_dados():\n",
    "    dado1 = random.randrange(1, 7)\n",
    "    dado2 = random.randrange(1, 7)\n",
    "    return(dado1,dado2)\n",
    "\n",
    "def mostrar_dados(dado):\n",
    "    dado1,dado2 = dado\n",
    "    print(f'Resultado:  {dado1} + {dado2} = {sum(dado)}')\n",
    "\n",
    "valores_logrados = lanzar_dados()\n",
    "\n",
    "mostrar_dados(valores_logrados)\n",
    "\n",
    "suma_dados = sum(valores_logrados)\n",
    "\n",
    "if suma_dados == 8:\n",
    "    print(\"Ganaste\")\n",
    "elif suma_dados == 7:\n",
    "    print(\"Perdiste\")\n",
    "else:\n",
    "    print(\"El juego continúa\")"
   ]
  },
  {
   "cell_type": "markdown",
   "id": "34507a56-d650-4156-b1f2-d485a9b3634e",
   "metadata": {},
   "source": [
    "Y ahora con un bucle vamos a seguir el juego, se relanzan los dados y si se hace un bucle while que mientras que no haya un resultado de 6,8, o 7, se sigue tirando, si no se define si se ganó o se perdió"
   ]
  },
  {
   "cell_type": "code",
   "execution_count": 41,
   "id": "0142cde5-6158-4c73-bbf4-e2d48efcd532",
   "metadata": {},
   "outputs": [
    {
     "name": "stdout",
     "output_type": "stream",
     "text": [
      "Resultado:  1 + 5 = 6\n",
      "sigue probando\n",
      "Resultado:  6 + 2 = 8\n",
      "ganaste\n"
     ]
    }
   ],
   "source": [
    "def lanzar_dados():\n",
    "    dado1 = random.randrange(1, 7)\n",
    "    dado2 = random.randrange(1, 7)\n",
    "    return(dado1,dado2)\n",
    "\n",
    "def mostrar_dados(dado):\n",
    "    dado1,dado2 = dado\n",
    "    print(f'Resultado:  {dado1} + {dado2} = {sum(dado)}')\n",
    "\n",
    "valores_logrados = lanzar_dados()\n",
    "\n",
    "mostrar_dados(valores_logrados)\n",
    "\n",
    "suma_dados = sum(valores_logrados)\n",
    "\n",
    "if suma_dados == 8:\n",
    "    status = 'ganaste'\n",
    "elif suma_dados == 7:\n",
    "    status = 'perdiste'\n",
    "else:\n",
    "    status = 'continuar'\n",
    "    print('sigue probando')\n",
    "\n",
    "while status == 'continuar':\n",
    "    valores_logrados = lanzar_dados()\n",
    "    mostrar_dados(valores_logrados)\n",
    "    suma_dados = sum(valores_logrados)\n",
    "    if suma_dados in (6,8):\n",
    "        status = 'ganaste'\n",
    "    elif suma_dados == 7:\n",
    "        status = 'perdiste'\n",
    "\n",
    "if status == 'ganaste':\n",
    "    print('ganaste')\n",
    "else:\n",
    "    print('perdiste')"
   ]
  },
  {
   "cell_type": "markdown",
   "id": "e330a41d-998a-4dd8-a8b9-51d255f0464d",
   "metadata": {},
   "source": [
    "Ahora unifica todo el código"
   ]
  },
  {
   "cell_type": "markdown",
   "id": "6c9e079c-3683-4901-a856-0bc24d2ea3b5",
   "metadata": {},
   "source": [
    "#### Por tu cuenta\n",
    "\n",
    "Usa un bucle for, randrange y una expresión condicional para simular 20 tiros de moneda, mosrando A para águila y S para Sello"
   ]
  },
  {
   "cell_type": "code",
   "execution_count": 59,
   "id": "24ea22a4-3fea-416b-af85-6a026c4ca9e7",
   "metadata": {},
   "outputs": [
    {
     "name": "stdout",
     "output_type": "stream",
     "text": [
      "Simulando 20 lanzamientos de moneda:\n",
      "Lanzamiento 1: S \n",
      "Lanzamiento 2: S \n",
      "Lanzamiento 3: S \n",
      "Lanzamiento 4: S \n",
      "Lanzamiento 5: S \n",
      "Lanzamiento 6: S \n",
      "Lanzamiento 7: S \n",
      "Lanzamiento 8: A\n",
      "Lanzamiento 9: S \n",
      "Lanzamiento 10: S \n",
      "Lanzamiento 11: S \n",
      "Lanzamiento 12: A\n",
      "Lanzamiento 13: A\n",
      "Lanzamiento 14: A\n",
      "Lanzamiento 15: A\n",
      "Lanzamiento 16: S \n",
      "Lanzamiento 17: A\n",
      "Lanzamiento 18: S \n",
      "Lanzamiento 19: A\n",
      "Lanzamiento 20: A\n",
      "\n",
      "Resultados finales:\n",
      "Total de Águilas: 8\n",
      "Total de Sellos: 12\n"
     ]
    }
   ],
   "source": [
    "from random import randrange\n",
    "\n",
    "contador_aguilas = 0\n",
    "contador_sellos = 0\n",
    "\n",
    "print(\"Simulando 20 lanzamientos de moneda:\")\n",
    "for lanzamiento in range(1, 21):\n",
    "    resultado = 'Águila' if randrange(2) == 0 else 'Sello'\n",
    "    \n",
    "    if resultado == 'Águila':\n",
    "        contador_aguilas += 1\n",
    "        print(f\"Lanzamiento {lanzamiento}: A\")\n",
    "    else:\n",
    "        contador_sellos += 1\n",
    "        print(f\"Lanzamiento {lanzamiento}: S \")\n",
    "\n",
    "print(\"\\nResultados finales:\")\n",
    "print(f\"Total de Águilas: {contador_aguilas}\")\n",
    "print(f\"Total de Sellos: {contador_sellos}\")"
   ]
  },
  {
   "cell_type": "markdown",
   "id": "902a0cb5-4b49-40f2-b285-afd87b760f18",
   "metadata": {},
   "source": [
    "## 4.5.- Funciones sin parámetros y múltiples parámetros"
   ]
  },
  {
   "cell_type": "markdown",
   "id": "71dd025d-bf4b-4c68-99b5-0cb72614740e",
   "metadata": {},
   "source": [
    "def raizcuadra(numero):\n",
    "    \"\"\"Esta función saca la raiz cuadra de un número\"\"\"\n",
    "    return numero ** (1/2)Se acuerdan de la primer funcion que hicimos? Que pasa si la corremos sin parametro?"
   ]
  },
  {
   "cell_type": "code",
   "execution_count": 53,
   "id": "e381d145-b1cb-46c5-99b9-9f83e90964bd",
   "metadata": {},
   "outputs": [
    {
     "data": {
      "text/plain": [
       "7.0"
      ]
     },
     "execution_count": 53,
     "metadata": {},
     "output_type": "execute_result"
    }
   ],
   "source": [
    "def raizcuadra(numero):\n",
    "    return numero**(1/2)\n",
    "\n",
    "raizcuadra(49)"
   ]
  },
  {
   "cell_type": "code",
   "execution_count": 43,
   "id": "4b642fdf-9360-4196-9a89-c717e6bf1bda",
   "metadata": {},
   "outputs": [
    {
     "data": {
      "text/plain": [
       "1.0"
      ]
     },
     "execution_count": 43,
     "metadata": {},
     "output_type": "execute_result"
    }
   ],
   "source": [
    "def raizcuadra(numero=1):\n",
    "    return numero**(1/2)\n",
    "\n",
    "raizcuadra()"
   ]
  },
  {
   "cell_type": "markdown",
   "id": "010114c1-509a-4cc1-a388-ca28850d9932",
   "metadata": {},
   "source": [
    "Asigna un parametro estandar para evitar este error"
   ]
  },
  {
   "cell_type": "markdown",
   "id": "6c3d4102-a3b3-40de-a916-1df8e54b4a29",
   "metadata": {},
   "source": [
    "También, hay funciones que pueden aceptar una cantidad indefinida de parametros - arma una función llamada promedio_calif que te diga el promedio de una cantidad arbitraria de calificaciones"
   ]
  },
  {
   "cell_type": "code",
   "execution_count": 44,
   "id": "a3fc7b58-87e9-441e-9772-14f961c0f1b4",
   "metadata": {},
   "outputs": [
    {
     "data": {
      "text/plain": [
       "7.25"
      ]
     },
     "execution_count": 44,
     "metadata": {},
     "output_type": "execute_result"
    }
   ],
   "source": [
    "def promedio_calif(*calif):\n",
    "    return sum(calif)/len(calif)\n",
    "\n",
    "promedio_calif (9,6,7,3,9,6,8,9,7,6,8,9)"
   ]
  },
  {
   "cell_type": "code",
   "execution_count": 58,
   "id": "27b2e996-20e0-4093-99f6-dbf330689d39",
   "metadata": {},
   "outputs": [
    {
     "data": {
      "text/plain": [
       "8.666666666666666"
      ]
     },
     "execution_count": 58,
     "metadata": {},
     "output_type": "execute_result"
    }
   ],
   "source": [
    "def promedio_calif(*calif):\n",
    "    return sum(calif)/len(calif)\n",
    "\n",
    "promedio_calif (9,8,9,9,8,9)"
   ]
  },
  {
   "cell_type": "markdown",
   "id": "e3f6b2e9-4ed4-4c34-81b1-e60ca1b59bff",
   "metadata": {},
   "source": [
    "#### Por tu cuenta\n",
    "\n",
    "Arma una función que reciba una cantidad arbitraria de argumentos y calcule el producto de multiplicarlos todos entre ellos"
   ]
  },
  {
   "cell_type": "code",
   "execution_count": 62,
   "id": "1e1d13b9-3cb1-43e5-9cf9-b6da52643a78",
   "metadata": {},
   "outputs": [
    {
     "name": "stdout",
     "output_type": "stream",
     "text": [
      "El producto es: 945\n"
     ]
    }
   ],
   "source": [
    "def multiplicar_todos(*args):\n",
    "    producto = 1\n",
    "    for numero in args:\n",
    "        producto *= numero\n",
    "    return producto\n",
    "\n",
    "resultado = multiplicar_todos(3, 5, 7, 9)\n",
    "print(f\"El producto es: {resultado}\")\n"
   ]
  },
  {
   "cell_type": "markdown",
   "id": "6892461b-49af-466b-b947-2e649586b5d5",
   "metadata": {},
   "source": [
    "## 4.6.- Alcance Local y Global"
   ]
  },
  {
   "cell_type": "markdown",
   "id": "1c759b58-4b0f-4e11-9a61-af3ee94a26e6",
   "metadata": {},
   "source": [
    "Recordemos nuestra función de raiz cuadrada"
   ]
  },
  {
   "cell_type": "code",
   "execution_count": 46,
   "id": "47693ade-1834-4d6f-b5d2-1582b62d02af",
   "metadata": {},
   "outputs": [
    {
     "data": {
      "text/plain": [
       "8.0"
      ]
     },
     "execution_count": 46,
     "metadata": {},
     "output_type": "execute_result"
    }
   ],
   "source": [
    "def raiz_cuad(numero = 1):\n",
    "    return numero ** (1/2)\n",
    "\n",
    "raiz_cuad(64)"
   ]
  },
  {
   "cell_type": "markdown",
   "id": "92d9d3b6-d1ae-480d-9026-b605aa24245f",
   "metadata": {},
   "source": [
    "Define la variable aprox pi =3.141 y luego define una función que llame a esta variable de acceso global"
   ]
  },
  {
   "cell_type": "code",
   "execution_count": 54,
   "id": "926aeb0e",
   "metadata": {},
   "outputs": [
    {
     "name": "stdout",
     "output_type": "stream",
     "text": [
      "pi es llamada de acceso_global_pi como: 3.141\n"
     ]
    }
   ],
   "source": [
    "pi = 3.141\n",
    "\n",
    "def acceso_global_pi():\n",
    "    print('pi es llamada de acceso_global_pi como:', pi)\n",
    "\n",
    "acceso_global_pi()"
   ]
  },
  {
   "cell_type": "markdown",
   "id": "90a3042c-1f46-4ef1-9f19-9cae0aeae31f",
   "metadata": {},
   "source": [
    "Intenta modificar aprox pi desde una función - verás que python no lo hace, solo modifica una copia"
   ]
  },
  {
   "cell_type": "code",
   "execution_count": 50,
   "id": "5cae2efd",
   "metadata": {},
   "outputs": [
    {
     "name": "stdout",
     "output_type": "stream",
     "text": [
      "pi es llamada de acceso_global_pi como: 3.141\n"
     ]
    }
   ],
   "source": [
    "def intento_modificar_global_pi():\n",
    "    pi = 3.141\n",
    "    print('modificacion de pi como', pi)\n",
    "\n",
    "    intento_modificar_global_pi()\n",
    "    pi = 3.1416\n",
    "\n",
    "pi\n",
    "\n",
    "acceso_global_pi()"
   ]
  },
  {
   "cell_type": "markdown",
   "id": "5e3fc9f1-f1c8-419e-a7ad-ad015daa9ada",
   "metadata": {},
   "source": [
    "## 4.7.- El módulo de matemáticas de Python"
   ]
  },
  {
   "cell_type": "markdown",
   "id": "66a15356-6461-4202-a7d0-56526d3c1536",
   "metadata": {},
   "source": [
    "Calcula el log10 de 1000"
   ]
  },
  {
   "cell_type": "code",
   "execution_count": 28,
   "id": "d04ec048-5865-4040-a3f2-3b3cbcb1d40a",
   "metadata": {},
   "outputs": [
    {
     "ename": "TypeError",
     "evalue": "'int' object is not callable",
     "output_type": "error",
     "traceback": [
      "\u001b[31m---------------------------------------------------------------------------\u001b[39m",
      "\u001b[31mTypeError\u001b[39m                                 Traceback (most recent call last)",
      "\u001b[36mCell\u001b[39m\u001b[36m \u001b[39m\u001b[32mIn[28]\u001b[39m\u001b[32m, line 1\u001b[39m\n\u001b[32m----> \u001b[39m\u001b[32m1\u001b[39m \u001b[43mlog10\u001b[49m\u001b[43m(\u001b[49m\u001b[32;43m1000\u001b[39;49m\u001b[43m)\u001b[49m\n",
      "\u001b[31mTypeError\u001b[39m: 'int' object is not callable"
     ]
    }
   ],
   "source": [
    "log10(1000)"
   ]
  },
  {
   "cell_type": "markdown",
   "id": "2db1131d-227b-46fe-aa43-ea83fd7ff1bc",
   "metadata": {},
   "source": [
    "Importa la librería math"
   ]
  },
  {
   "cell_type": "code",
   "execution_count": 56,
   "id": "4252d1a8-4e52-43d1-a5a4-045def644677",
   "metadata": {},
   "outputs": [],
   "source": [
    "import math"
   ]
  },
  {
   "cell_type": "markdown",
   "id": "4cebaf0a-a127-4a90-971a-a306d39ebc10",
   "metadata": {},
   "source": [
    "ahora si, calcula el log10 de 1000"
   ]
  },
  {
   "cell_type": "code",
   "execution_count": 55,
   "id": "47bf2d24-fcb4-4907-92e7-af142e2afded",
   "metadata": {},
   "outputs": [
    {
     "data": {
      "text/plain": [
       "3.0"
      ]
     },
     "execution_count": 55,
     "metadata": {},
     "output_type": "execute_result"
    }
   ],
   "source": [
    "math.log10(1000)"
   ]
  },
  {
   "cell_type": "markdown",
   "id": "1494d2e2-c5f0-4426-bd28-3ccea38d7b09",
   "metadata": {},
   "source": [
    "## 4.8.- Medidas de tendencia central y Dispersión"
   ]
  },
  {
   "cell_type": "markdown",
   "id": "68b9172a-f029-4f3c-83d1-545ff8937e5a",
   "metadata": {},
   "source": [
    "Importa la librería d eestadistica, y crea una lista de calificaciones aleatorias entre 50 y 100"
   ]
  },
  {
   "cell_type": "code",
   "execution_count": 31,
   "id": "06d77b88-6f25-4ee2-81c9-deb91bde85d4",
   "metadata": {},
   "outputs": [
    {
     "name": "stdout",
     "output_type": "stream",
     "text": [
      "Calificaciones: [72, 82, 80, 83, 56, 90, 93, 56, 88, 87]\n"
     ]
    }
   ],
   "source": [
    "import statistics as estad\n",
    "import random\n",
    "\n",
    "calificaciones = [random.randrange(50, 101) for numero in range(10)]\n",
    "\n",
    "print(\"Calificaciones:\", calificaciones)"
   ]
  },
  {
   "cell_type": "markdown",
   "id": "77e5a078-1a94-4fc1-acb0-4ae291e3ea0c",
   "metadata": {},
   "source": [
    "Calcula las medidas de tendencia central"
   ]
  },
  {
   "cell_type": "code",
   "execution_count": 34,
   "id": "a6da1b83",
   "metadata": {},
   "outputs": [
    {
     "name": "stdout",
     "output_type": "stream",
     "text": [
      "\n",
      "Las medidas de tendencia central son:\n",
      "Media: 78.7\n",
      "Mediana: 82.5\n",
      "Moda: 56\n"
     ]
    }
   ],
   "source": [
    "media = estad.mean(calificaciones)\n",
    "mediana = estad.median(calificaciones)\n",
    "moda = estad.mode(calificaciones)\n",
    "\n",
    "print(\"\\nLas medidas de tendencia central son:\")\n",
    "print(\"Media:\", media)\n",
    "print(\"Mediana:\", mediana)\n",
    "print(\"Moda:\", moda)"
   ]
  },
  {
   "cell_type": "markdown",
   "id": "d0b2cda1-016b-4f15-8663-586820f6aae0",
   "metadata": {},
   "source": [
    "Calcula las medidas de dispersión"
   ]
  },
  {
   "cell_type": "code",
   "execution_count": 35,
   "id": "f32e739d",
   "metadata": {},
   "outputs": [
    {
     "name": "stdout",
     "output_type": "stream",
     "text": [
      "\n",
      "Las medidas de dispersión son:\n",
      "Rango: 37\n",
      "Varianza: 159.41\n",
      "Desv. Estándar: 12.626\n"
     ]
    }
   ],
   "source": [
    "rango = max(calificaciones) - min(calificaciones)\n",
    "varianza = estad.pvariance(calificaciones)\n",
    "desv_estandar = estad.pstdev(calificaciones)\n",
    "\n",
    "print(\"\\nLas medidas de dispersión son:\")\n",
    "print(\"Rango:\", rango)\n",
    "print(\"Varianza:\", round(varianza, 3))\n",
    "print(\"Desv. Estándar:\", round(desv_estandar, 3))"
   ]
  },
  {
   "cell_type": "markdown",
   "id": "e55f2a84-65b1-4e86-b4d4-9be69022fdc2",
   "metadata": {},
   "source": [
    "#### Por tu cuenta\n",
    "\n",
    "Para los numeros del 1 al 20, calcula la varianza y la desviacion estandar - compara con la varianza poblacional y la desviacion estandar poblacional"
   ]
  },
  {
   "cell_type": "code",
   "execution_count": 57,
   "id": "49c8d1e8",
   "metadata": {},
   "outputs": [
    {
     "name": "stdout",
     "output_type": "stream",
     "text": [
      "\n",
      "Las medidas de tendencia central son:\n",
      "Media: 10.5\n",
      "Mediana: 10.5\n",
      "Moda: 1\n",
      "\n",
      "Las medidas de dispersión son:\n",
      "Rango: 19\n",
      "Varianza: 33.25\n",
      "Desv. Estándar: 5.766\n"
     ]
    }
   ],
   "source": [
    "import statistics as estad\n",
    "import random\n",
    "\n",
    "lista = [1, 2, 3, 4, 5, 6, 7, 8, 9, 10, 11, 12, 13, 14, 15, 16, 17, 18, 19, 20]\n",
    "media = estad.mean(lista)\n",
    "mediana = estad.median(lista)\n",
    "moda = estad.mode(lista)\n",
    "\n",
    "print(\"\\nLas medidas de tendencia central son:\")\n",
    "print(\"Media:\", media)\n",
    "print(\"Mediana:\", mediana)\n",
    "print(\"Moda:\", moda)\n",
    "\n",
    "rango = max(lista) - min(lista)\n",
    "varianza = estad.pvariance(lista)\n",
    "desv_estandar = estad.pstdev(lista)\n",
    "\n",
    "print(\"\\nLas medidas de dispersión son:\")\n",
    "print(\"Rango:\", rango)\n",
    "print(\"Varianza:\", round(varianza, 3))\n",
    "print(\"Desv. Estándar:\", round(desv_estandar, 3))"
   ]
  }
 ],
 "metadata": {
  "kernelspec": {
   "display_name": "Python 3",
   "language": "python",
   "name": "python3"
  },
  "language_info": {
   "codemirror_mode": {
    "name": "ipython",
    "version": 3
   },
   "file_extension": ".py",
   "mimetype": "text/x-python",
   "name": "python",
   "nbconvert_exporter": "python",
   "pygments_lexer": "ipython3",
   "version": "3.13.2"
  }
 },
 "nbformat": 4,
 "nbformat_minor": 5
}
